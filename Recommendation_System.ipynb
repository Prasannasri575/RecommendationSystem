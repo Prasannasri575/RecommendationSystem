{
  "nbformat": 4,
  "nbformat_minor": 0,
  "metadata": {
    "colab": {
      "provenance": [],
      "authorship_tag": "ABX9TyNEYWcxSXDlqRG3D9Sy3/Lz",
      "include_colab_link": true
    },
    "kernelspec": {
      "name": "python3",
      "display_name": "Python 3"
    },
    "language_info": {
      "name": "python"
    }
  },
  "cells": [
    {
      "cell_type": "markdown",
      "metadata": {
        "id": "view-in-github",
        "colab_type": "text"
      },
      "source": [
        "<a href=\"https://colab.research.google.com/github/Prasannasri575/RecommendationSystem/blob/main/Recommendation_System.ipynb\" target=\"_parent\"><img src=\"https://colab.research.google.com/assets/colab-badge.svg\" alt=\"Open In Colab\"/></a>"
      ]
    },
    {
      "cell_type": "markdown",
      "source": [
        "Recommendation System"
      ],
      "metadata": {
        "id": "6YWGPA_1um0G"
      }
    },
    {
      "cell_type": "code",
      "execution_count": null,
      "metadata": {
        "id": "gwqmqIhdgGJQ",
        "colab": {
          "base_uri": "https://localhost:8080/"
        },
        "outputId": "b7933e91-0e29-41e0-ac26-37745964e314"
      },
      "outputs": [
        {
          "output_type": "stream",
          "name": "stdout",
          "text": [
            "User-Item Ratings Matrix:\n",
            "        Item1  Item2  Item3  Item4  Item5\n",
            "User1      3      4      2      4      4\n",
            "User2      1      2      2      2      4\n",
            "User3      3      2      5      4      1\n",
            "User4      3      5      5      1      3\n",
            "User5      4      0      3      1      5\n",
            "\n",
            "Item-Item Similarity Matrix:\n",
            "           Item1     Item2     Item3     Item4     Item5\n",
            "Item1  1.000000  0.753778  0.920887  0.807041  0.884051\n",
            "Item2  0.753778  1.000000  0.820281  0.764758  0.715564\n",
            "Item3  0.920887  0.820281  1.000000  0.792740  0.761194\n",
            "Item4  0.807041  0.764758  0.792740  1.000000  0.713466\n",
            "Item5  0.884051  0.715564  0.761194  0.713466  1.000000\n",
            "\n",
            "Top Recommendations for Item1:\n",
            " Item3    0.920887\n",
            "Item5    0.884051\n",
            "Name: Item1, dtype: float64\n"
          ]
        }
      ],
      "source": [
        "import numpy as np\n",
        "import pandas as pd\n",
        "from sklearn.metrics.pairwise import cosine_similarity\n",
        "\n",
        "# Generating synthetic user-item interaction data\n",
        "np.random.seed(42)\n",
        "user_item_matrix = np.random.randint(0, 6, (5, 5))  # 5 users, 5 items, ratings from 0 to 5\n",
        "users = [\"User1\", \"User2\", \"User3\", \"User4\", \"User5\"]\n",
        "items = [\"Item1\", \"Item2\", \"Item3\", \"Item4\", \"Item5\"]\n",
        "\n",
        "# Creating a DataFrame\n",
        "ratings_df = pd.DataFrame(user_item_matrix, index=users, columns=items)\n",
        "print(\"User-Item Ratings Matrix:\\n\", ratings_df)\n",
        "\n",
        "# Computing item-item similarity\n",
        "item_similarity = cosine_similarity(ratings_df.T)  # Transposed for item-based similarity\n",
        "item_similarity_df = pd.DataFrame(item_similarity, index=items, columns=items)\n",
        "print(\"\\nItem-Item Similarity Matrix:\\n\", item_similarity_df)\n",
        "\n",
        "# Function to recommend similar items\n",
        "def recommend_items(item, top_n=2):\n",
        "    if item not in item_similarity_df:\n",
        "        return \"Item not found!\"\n",
        "    similar_items = item_similarity_df[item].sort_values(ascending=False)[1:top_n+1]\n",
        "    return similar_items\n",
        "\n",
        "# Example: Get recommendations for Item1\n",
        "recommended = recommend_items(\"Item1\")\n",
        "print(\"\\nTop Recommendations for Item1:\\n\",recommended)\n"
      ]
    }
  ]
}